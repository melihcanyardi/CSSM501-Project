{
 "cells": [
  {
   "cell_type": "markdown",
   "id": "5794a141",
   "metadata": {},
   "source": [
    "# TBMM Web Scraping"
   ]
  },
  {
   "cell_type": "code",
   "execution_count": 1,
   "id": "a4879be7",
   "metadata": {},
   "outputs": [],
   "source": [
    "import requests\n",
    "from bs4 import BeautifulSoup\n",
    "import pandas as pd"
   ]
  },
  {
   "cell_type": "markdown",
   "id": "8ee12d70",
   "metadata": {},
   "source": [
    "## Get Transcript URLs"
   ]
  },
  {
   "cell_type": "code",
   "execution_count": 2,
   "id": "a73fd0e8",
   "metadata": {},
   "outputs": [],
   "source": [
    "def get_transcript_urls(url):\n",
    "    r = requests.get(url)\n",
    "    soup = BeautifulSoup(r.text, 'html.parser')\n",
    "    \n",
    "    urls = []\n",
    "    sessions = []\n",
    "    dates = []\n",
    "    \n",
    "    for i in range(2, 2+len([link.get_text() for link in soup.find(\"div\", attrs=\"page-content\").find(\"table\").find_all(\"a\") if link.get_text() not in [\"Özet\", \"Açık Oylama Sonuçları\"]])):\n",
    "        urls.append(soup.find(\"div\", attrs=\"page-content\").find(\"table\").find_all(\"tr\")[i].find(\"a\").get(\"href\"))\n",
    "        sessions.append(soup.find(\"div\", attrs=\"page-content\").find(\"table\").find_all(\"tr\")[i].find(\"a\").get_text())\n",
    "        dates.append(soup.find(\"div\", attrs=\"page-content\").find(\"table\").find_all(\"tr\")[i].find_all(\"td\")[1].get_text()[:10])\n",
    "        \n",
    "    df = pd.concat([pd.Series(urls, name=\"URL\"),\n",
    "                    pd.Series(sessions, name=\"Session\"),\n",
    "                    pd.Series(dates, name=\"Date\")], axis=1)\n",
    "    df[\"Date\"] = pd.to_datetime(df[\"Date\"], dayfirst=True)\n",
    "    df[\"Term\"] = url[-1]\n",
    "    df = df[[\"Date\", \"Session\", \"Term\", \"URL\"]]\n",
    "    df = df.sort_values(\"Date\").reset_index(drop=True)\n",
    "    \n",
    "    return df"
   ]
  },
  {
   "cell_type": "code",
   "execution_count": 3,
   "id": "8fe227e3",
   "metadata": {},
   "outputs": [],
   "source": [
    "df = get_transcript_urls(\"https://www.tbmm.gov.tr/Tutanaklar/DoneminTutanakMetinleri?Donem=27&YasamaYili=5\")\n",
    "\n",
    "df = df[(df[\"Date\"] >= \"2021-11-01\") & (df[\"Date\"] < \"2022-01-01\")].reset_index(drop=True)\n",
    "\n",
    "transcript_urls = list(df[\"URL\"])"
   ]
  },
  {
   "cell_type": "markdown",
   "id": "5cfd1098",
   "metadata": {},
   "source": [
    "## Get Transcripts"
   ]
  },
  {
   "cell_type": "code",
   "execution_count": 4,
   "id": "ad5298ff",
   "metadata": {},
   "outputs": [],
   "source": [
    "def get_transcript(url):\n",
    "    r = requests.get(url)\n",
    "    soup = BeautifulSoup(r.content, from_encoding=\"Windows-1254\")\n",
    "    return soup.text.replace(\"ð\", \"ğ\").replace(\"\\xa0\", \" \").replace(\"\\r\\n\", \" \")"
   ]
  },
  {
   "cell_type": "code",
   "execution_count": 5,
   "id": "15dc8acb",
   "metadata": {},
   "outputs": [],
   "source": [
    "transcripts = [get_transcript(url) for url in transcript_urls]"
   ]
  },
  {
   "cell_type": "code",
   "execution_count": 6,
   "id": "07ebf346",
   "metadata": {},
   "outputs": [],
   "source": [
    "df = pd.concat([df, pd.Series(transcripts, name=\"Transcript\")], axis=1)"
   ]
  },
  {
   "cell_type": "code",
   "execution_count": 7,
   "id": "2d0b45a4",
   "metadata": {},
   "outputs": [],
   "source": [
    "df[\"Transcript_Tokens\"] = df[\"Transcript\"].apply(lambda x: [item.strip() for item in x.replace(\"\\r\\n\", \" \").split(\"\\n\") if len(item.strip()) > 0])"
   ]
  },
  {
   "cell_type": "code",
   "execution_count": 8,
   "id": "651ef04a",
   "metadata": {},
   "outputs": [],
   "source": [
    "tutanak = pd.DataFrame(columns=[\"Date\", \"Session\", \"Term\", \"Transcript\"])\n",
    "\n",
    "for i in range(len(df)):\n",
    "    token_len = len(df.loc[i, \"Transcript_Tokens\"])\n",
    "    tutanak = tutanak.append(pd.concat([pd.Series([df.loc[i, \"Date\"]]*token_len, name=\"Date\", dtype=\"datetime64[ns]\"),\n",
    "                                            pd.Series([df.loc[i, \"Session\"]]*token_len, name=\"Session\"),\n",
    "                                            pd.Series([df.loc[i, \"Term\"]]*token_len, name=\"Term\"),\n",
    "                                            pd.Series(df.loc[i, \"Transcript_Tokens\"], name=\"Transcript\")], axis=1))"
   ]
  },
  {
   "cell_type": "code",
   "execution_count": 9,
   "id": "adb2fba0",
   "metadata": {},
   "outputs": [],
   "source": [
    "tutanak.to_csv(\"tutanak.csv\", index=False)"
   ]
  }
 ],
 "metadata": {
  "kernelspec": {
   "display_name": "Python 3 (ipykernel)",
   "language": "python",
   "name": "python3"
  },
  "language_info": {
   "codemirror_mode": {
    "name": "ipython",
    "version": 3
   },
   "file_extension": ".py",
   "mimetype": "text/x-python",
   "name": "python",
   "nbconvert_exporter": "python",
   "pygments_lexer": "ipython3",
   "version": "3.8.12"
  }
 },
 "nbformat": 4,
 "nbformat_minor": 5
}
