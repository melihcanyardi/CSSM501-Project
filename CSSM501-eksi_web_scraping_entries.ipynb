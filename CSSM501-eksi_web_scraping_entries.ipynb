{
 "cells": [
  {
   "cell_type": "markdown",
   "id": "2193fc74",
   "metadata": {},
   "source": [
    "# Ekşi Web Scraping - Topics"
   ]
  },
  {
   "cell_type": "code",
   "execution_count": 1,
   "id": "56f6c0df",
   "metadata": {},
   "outputs": [
    {
     "name": "stderr",
     "output_type": "stream",
     "text": [
      "\n",
      "\n",
      "====== WebDriver manager ======\n",
      "Current google-chrome version is 97.0.4692\n",
      "Get LATEST chromedriver version for 97.0.4692 google-chrome\n",
      "Driver [C:\\Users\\melihcanyardi\\.wdm\\drivers\\chromedriver\\win32\\97.0.4692.71\\chromedriver.exe] found in cache\n"
     ]
    }
   ],
   "source": [
    "import numpy as np\n",
    "import pandas as pd\n",
    "from selenium import webdriver\n",
    "from webdriver_manager.chrome import ChromeDriverManager\n",
    "\n",
    "driver = webdriver.Chrome(ChromeDriverManager().install())"
   ]
  },
  {
   "cell_type": "code",
   "execution_count": 2,
   "id": "bdc4b6c6",
   "metadata": {},
   "outputs": [
    {
     "data": {
      "text/html": [
       "<div>\n",
       "<style scoped>\n",
       "    .dataframe tbody tr th:only-of-type {\n",
       "        vertical-align: middle;\n",
       "    }\n",
       "\n",
       "    .dataframe tbody tr th {\n",
       "        vertical-align: top;\n",
       "    }\n",
       "\n",
       "    .dataframe thead th {\n",
       "        text-align: right;\n",
       "    }\n",
       "</style>\n",
       "<table border=\"1\" class=\"dataframe\">\n",
       "  <thead>\n",
       "    <tr style=\"text-align: right;\">\n",
       "      <th></th>\n",
       "      <th>Topics</th>\n",
       "      <th>URL</th>\n",
       "      <th>Entry_Counts</th>\n",
       "      <th>Snapshot_Time</th>\n",
       "    </tr>\n",
       "  </thead>\n",
       "  <tbody>\n",
       "    <tr>\n",
       "      <th>0</th>\n",
       "      <td>exxen</td>\n",
       "      <td>https://eksisozluk.com/exxen--6679701</td>\n",
       "      <td>532</td>\n",
       "      <td>2021-01-02 04:05:42</td>\n",
       "    </tr>\n",
       "    <tr>\n",
       "      <th>1</th>\n",
       "      <td>akıncı (dizi)</td>\n",
       "      <td>https://eksisozluk.com/akinci-dizi--6747980</td>\n",
       "      <td>323</td>\n",
       "      <td>2021-01-02 04:05:42</td>\n",
       "    </tr>\n",
       "    <tr>\n",
       "      <th>2</th>\n",
       "      <td>rte'nin başörtülü kadına vitrin mankeni demesi</td>\n",
       "      <td>https://eksisozluk.com/rtenin-basortulu-kadina...</td>\n",
       "      <td>225</td>\n",
       "      <td>2021-01-02 04:05:42</td>\n",
       "    </tr>\n",
       "    <tr>\n",
       "      <th>3</th>\n",
       "      <td>insanlık tarihinin en büyük buluşu</td>\n",
       "      <td>https://eksisozluk.com/insanlik-tarihinin-en-b...</td>\n",
       "      <td>246</td>\n",
       "      <td>2021-01-02 04:05:42</td>\n",
       "    </tr>\n",
       "    <tr>\n",
       "      <th>4</th>\n",
       "      <td>yazarların 2020 ve 2021 başı kilo durumları</td>\n",
       "      <td>https://eksisozluk.com/yazarlarin-2020-ve-2021...</td>\n",
       "      <td>529</td>\n",
       "      <td>2021-01-02 04:05:42</td>\n",
       "    </tr>\n",
       "  </tbody>\n",
       "</table>\n",
       "</div>"
      ],
      "text/plain": [
       "                                           Topics  \\\n",
       "0                                           exxen   \n",
       "1                                   akıncı (dizi)   \n",
       "2  rte'nin başörtülü kadına vitrin mankeni demesi   \n",
       "3              insanlık tarihinin en büyük buluşu   \n",
       "4     yazarların 2020 ve 2021 başı kilo durumları   \n",
       "\n",
       "                                                 URL  Entry_Counts  \\\n",
       "0              https://eksisozluk.com/exxen--6679701           532   \n",
       "1        https://eksisozluk.com/akinci-dizi--6747980           323   \n",
       "2  https://eksisozluk.com/rtenin-basortulu-kadina...           225   \n",
       "3  https://eksisozluk.com/insanlik-tarihinin-en-b...           246   \n",
       "4  https://eksisozluk.com/yazarlarin-2020-ve-2021...           529   \n",
       "\n",
       "         Snapshot_Time  \n",
       "0  2021-01-02 04:05:42  \n",
       "1  2021-01-02 04:05:42  \n",
       "2  2021-01-02 04:05:42  \n",
       "3  2021-01-02 04:05:42  \n",
       "4  2021-01-02 04:05:42  "
      ]
     },
     "execution_count": 2,
     "metadata": {},
     "output_type": "execute_result"
    }
   ],
   "source": [
    "eksi_gundem = pd.read_csv(\"eksi_gundem.csv\")\n",
    "eksi_gundem = eksi_gundem.drop_duplicates(\"Topics\").reset_index(drop=True)\n",
    "eksi_gundem.head()"
   ]
  },
  {
   "cell_type": "code",
   "execution_count": 3,
   "id": "d17e1108",
   "metadata": {},
   "outputs": [],
   "source": [
    "#eksi_gundem_jan = eksi_gundem[(eksi_gundem[\"Snapshot_Time\"] >= \"2021-01-01\") & (eksi_gundem[\"Snapshot_Time\"] < \"2021-02-01\")].reset_index(drop=True)\n",
    "#eksi_gundem_feb = eksi_gundem[(eksi_gundem[\"Snapshot_Time\"] > \"2021-02-01\") & (eksi_gundem[\"Snapshot_Time\"] < \"2021-03-01\")].reset_index(drop=True)\n",
    "#eksi_gundem_mar = eksi_gundem[(eksi_gundem[\"Snapshot_Time\"] > \"2021-03-01\") & (eksi_gundem[\"Snapshot_Time\"] < \"2021-04-01\")].reset_index(drop=True)\n",
    "#eksi_gundem_apr = eksi_gundem[(eksi_gundem[\"Snapshot_Time\"] > \"2021-04-01\") & (eksi_gundem[\"Snapshot_Time\"] < \"2021-05-01\")].reset_index(drop=True)\n",
    "#eksi_gundem_may = eksi_gundem[(eksi_gundem[\"Snapshot_Time\"] > \"2021-05-01\") & (eksi_gundem[\"Snapshot_Time\"] < \"2021-06-01\")].reset_index(drop=True)\n",
    "#eksi_gundem_jun = eksi_gundem[(eksi_gundem[\"Snapshot_Time\"] > \"2021-06-01\") & (eksi_gundem[\"Snapshot_Time\"] < \"2021-07-01\")].reset_index(drop=True)\n",
    "#eksi_gundem_jul = eksi_gundem[(eksi_gundem[\"Snapshot_Time\"] > \"2021-07-01\") & (eksi_gundem[\"Snapshot_Time\"] < \"2021-08-01\")].reset_index(drop=True)\n",
    "#eksi_gundem_aug = eksi_gundem[(eksi_gundem[\"Snapshot_Time\"] > \"2021-08-01\") & (eksi_gundem[\"Snapshot_Time\"] < \"2021-09-01\")].reset_index(drop=True)\n",
    "#eksi_gundem_sep = eksi_gundem[(eksi_gundem[\"Snapshot_Time\"] > \"2021-09-01\") & (eksi_gundem[\"Snapshot_Time\"] < \"2021-10-01\")].reset_index(drop=True)\n",
    "#eksi_gundem_oct = eksi_gundem[(eksi_gundem[\"Snapshot_Time\"] > \"2021-10-01\") & (eksi_gundem[\"Snapshot_Time\"] < \"2021-11-01\")].reset_index(drop=True)\n",
    "eksi_gundem_nov = eksi_gundem[(eksi_gundem[\"Snapshot_Time\"] > \"2021-11-01\") & (eksi_gundem[\"Snapshot_Time\"] < \"2021-12-01\")].reset_index(drop=True)\n",
    "eksi_gundem_dec = eksi_gundem[(eksi_gundem[\"Snapshot_Time\"] > \"2021-12-01\") & (eksi_gundem[\"Snapshot_Time\"] < \"2022-01-01\")].reset_index(drop=True)"
   ]
  },
  {
   "cell_type": "code",
   "execution_count": 4,
   "id": "951a9558",
   "metadata": {},
   "outputs": [],
   "source": [
    "def eksi_scrap(url):\n",
    "    url = url\n",
    "    driver.get(url)\n",
    "    \n",
    "    entry_item_list = driver.find_elements_by_xpath('//*[@id=\"entry-item-list\"]')[0]\n",
    "    \n",
    "    entries = []\n",
    "    authors = []\n",
    "    dates = []\n",
    "    \n",
    "    for i in range(len(entry_item_list.find_elements_by_class_name(\"content\"))):\n",
    "        entries.append(entry_item_list.find_elements_by_class_name(\"content\")[i].text)\n",
    "        authors.append(entry_item_list.find_elements_by_class_name(\"entry-author\")[i].text)\n",
    "        dates.append(entry_item_list.find_elements_by_class_name(\"entry-date\")[i].text)\n",
    "        \n",
    "    df = pd.DataFrame(columns = [\"Entry\", \"Author\", \"Date\"])\n",
    "    \n",
    "    entries = pd.Series(entries, name='Entry')\n",
    "    authors = pd.Series(authors, name='Author')\n",
    "    dates = pd.Series(dates, name='Date')\n",
    "    \n",
    "    df = df.append(pd.concat([entries, authors, dates], axis=1))\n",
    "    return df"
   ]
  },
  {
   "cell_type": "code",
   "execution_count": 5,
   "id": "6c090636",
   "metadata": {},
   "outputs": [],
   "source": [
    "def get_entries(url):\n",
    "    print(f\"Getting Entries in: {url}\")\n",
    "    driver.get(url)\n",
    "    \n",
    "    # Check if the topic was changed to a new one\n",
    "    try:\n",
    "        if driver.find_element_by_xpath('//*[@id=\"title\"]/sup/a'):\n",
    "            old_topic = driver.find_element_by_xpath('//*[@id=\"title\"]/sup/a').get_attribute(\"title\")[1:-15]\n",
    "    except:\n",
    "        old_topic = driver.find_element_by_xpath('//*[@id=\"title\"]/a/span').text\n",
    "    \n",
    "    if driver.find_element_by_xpath('//*[@id=\"entry-author\"]/a').text == 'başlık taşıyan':\n",
    "        url = driver.find_elements_by_xpath('//*[@id=\"entry-item-list\"]')[0].find_element_by_class_name(\"content\").find_element_by_class_name(\"b\").get_attribute(\"href\")\n",
    "        driver.get(url)\n",
    "        \n",
    "    url = driver.current_url\n",
    "    driver.get(url)\n",
    "        \n",
    "    if \"true&rf\" in url:\n",
    "        url = driver.find_element_by_xpath('//*[@id=\"title\"]/a').get_attribute(\"href\")\n",
    "        driver.get(url)\n",
    "    \n",
    "    new_topic = driver.find_element_by_xpath('//*[@id=\"title\"]/a/span').text\n",
    "    \n",
    "    # Check if the topic has more than one page\n",
    "    try:\n",
    "        total_page = driver.find_element_by_xpath('//*[@id=\"topic\"]/div[1]/div[2]/a[1]').text\n",
    "    except:\n",
    "        total_page = 1\n",
    "    \n",
    "    url = url + \"?p=\"\n",
    "    \n",
    "    df = pd.DataFrame(columns = [\"Entry\", \"Author\", \"Date\"])\n",
    "    \n",
    "    i = 1\n",
    "    while True:\n",
    "        try:\n",
    "            df = df.append(eksi_scrap(url + str(i)))\n",
    "            print(f\"Page: {i}|{total_page}\")\n",
    "            i += 1\n",
    "        except:\n",
    "            break\n",
    "            \n",
    "    df = df.reset_index(drop=True)\n",
    "    old_topics = pd.Series([old_topic]*df.shape[0], name=\"Old_Topic\")\n",
    "    new_topics = pd.Series([new_topic]*df.shape[0], name=\"New_Topic\")\n",
    "    \n",
    "    df = pd.concat([df, old_topics, new_topics], axis=1)\n",
    "    return df"
   ]
  },
  {
   "cell_type": "markdown",
   "id": "c9f46572",
   "metadata": {},
   "source": [
    "## November Entries"
   ]
  },
  {
   "cell_type": "code",
   "execution_count": 6,
   "id": "a014ddfa",
   "metadata": {},
   "outputs": [],
   "source": [
    "entries_nov = pd.DataFrame(columns = [\"Entry\", \"Author\", \"Date\"])"
   ]
  },
  {
   "cell_type": "code",
   "execution_count": 7,
   "id": "e47183a9",
   "metadata": {
    "scrolled": true
   },
   "outputs": [],
   "source": [
    "for i, url in enumerate(eksi_gundem_nov[\"URL\"]):\n",
    "    print(f\"Topic: {eksi_gundem_nov.loc[i, 'Topics']} (#{i+1}|{eksi_gundem_nov.shape[0]})\")\n",
    "    try:\n",
    "        entries_nov = entries_nov.append(get_entries(url))\n",
    "    except:\n",
    "        entries_nov = entries_nov.append(get_entries(url))"
   ]
  },
  {
   "cell_type": "code",
   "execution_count": 9,
   "id": "bbd3d60a",
   "metadata": {},
   "outputs": [],
   "source": [
    "entries_nov = entries_nov.reset_index(drop=True)"
   ]
  },
  {
   "cell_type": "code",
   "execution_count": 10,
   "id": "9ad1f2c1",
   "metadata": {},
   "outputs": [],
   "source": [
    "## If the entry is edited, Edit is 1, else it is 0.\n",
    "entries_nov['Edited'] = entries_nov['Date'].apply(lambda x: True if '~' in x else False)\n",
    "\n",
    "# Edit Date\n",
    "entries_nov['Entry_Date'] = pd.to_datetime(entries_nov['Date'].apply(lambda x: x.split('~')[0][:-1] if '~' in x else x))\n",
    "entries_nov['Edit_Date'] = pd.to_datetime(entries_nov['Date'].apply(lambda x: x.split('~')[1][1:] if '~' in x else None))"
   ]
  },
  {
   "cell_type": "code",
   "execution_count": 11,
   "id": "eabb33f9",
   "metadata": {},
   "outputs": [],
   "source": [
    "entries_nov.to_csv(\"entries_nov.csv\", index=False)"
   ]
  },
  {
   "cell_type": "markdown",
   "id": "c7103f92",
   "metadata": {},
   "source": [
    "## December Entries"
   ]
  },
  {
   "cell_type": "code",
   "execution_count": 12,
   "id": "62a0abd1",
   "metadata": {},
   "outputs": [],
   "source": [
    "entries_dec = pd.DataFrame(columns = [\"Entry\", \"Author\", \"Date\"])"
   ]
  },
  {
   "cell_type": "code",
   "execution_count": 62,
   "id": "0fc20efd",
   "metadata": {
    "scrolled": true
   },
   "outputs": [],
   "source": [
    "for i, url in enumerate(eksi_gundem_dec[\"URL\"]):\n",
    "    print(f\"Topic: {eksi_gundem_dec.loc[i, 'Topics']} (#{i+1}|{eksi_gundem_dec.shape[0]})\")\n",
    "    try:\n",
    "        entries_dec = entries_dec.append(get_entries(url))\n",
    "    except:\n",
    "        entries_dec = entries_dec.append(get_entries(url))"
   ]
  },
  {
   "cell_type": "code",
   "execution_count": 34,
   "id": "aae9ed08",
   "metadata": {},
   "outputs": [],
   "source": [
    "entries_dec = entries_dec.reset_index(drop=True)"
   ]
  },
  {
   "cell_type": "code",
   "execution_count": 36,
   "id": "ad26a550",
   "metadata": {},
   "outputs": [],
   "source": [
    "## If the entry is edited, Edit is 1, else it is 0.\n",
    "entries_dec['Edited'] = entries_dec['Date'].apply(lambda x: True if '~' in x else False)\n",
    "\n",
    "# Edit Date\n",
    "entries_dec['Entry_Date'] = pd.to_datetime(entries_dec['Date'].apply(lambda x: x.split('~')[0][:-1] if '~' in x else x))\n",
    "entries_dec['Edit_Date'] = pd.to_datetime(entries_dec['Date'].apply(lambda x: x.split('~')[1][1:] if '~' in x else None))"
   ]
  },
  {
   "cell_type": "code",
   "execution_count": 38,
   "id": "5a3e771a",
   "metadata": {},
   "outputs": [],
   "source": [
    "entries_dec.to_csv(\"entries_dec.csv\", index=False)"
   ]
  },
  {
   "cell_type": "markdown",
   "id": "0e9d0618",
   "metadata": {},
   "source": [
    "## Combining Entries"
   ]
  },
  {
   "cell_type": "code",
   "execution_count": 46,
   "id": "50c0a6e8",
   "metadata": {},
   "outputs": [],
   "source": [
    "entries_nov = pd.read_csv(\"entries_nov.csv\", parse_dates=[6, 7])\n",
    "entries_dec = pd.read_csv(\"entries_dec.csv\", parse_dates=[6, 7])"
   ]
  },
  {
   "cell_type": "code",
   "execution_count": 53,
   "id": "f3d355a9",
   "metadata": {},
   "outputs": [],
   "source": [
    "entries_all = pd.concat([entries_nov, entries_dec]).reset_index(drop=True)"
   ]
  },
  {
   "cell_type": "code",
   "execution_count": 59,
   "id": "80c1cefd",
   "metadata": {},
   "outputs": [],
   "source": [
    "entries_all.to_csv(\"entries_all.csv\", index=False)"
   ]
  },
  {
   "cell_type": "code",
   "execution_count": 60,
   "id": "895f5938",
   "metadata": {},
   "outputs": [],
   "source": [
    "entries_nov_dec = entries_all[(entries_all[\"Entry_Date\"] >= \"2021-11-01\") & (entries_all[\"Entry_Date\"] < \"2022-01-01\")][\"Entry_Date\"]"
   ]
  },
  {
   "cell_type": "code",
   "execution_count": 61,
   "id": "b9025373",
   "metadata": {},
   "outputs": [],
   "source": [
    "entries_nov_dec.to_csv(\"entries_nov_dec.csv\", index=False)"
   ]
  }
 ],
 "metadata": {
  "kernelspec": {
   "display_name": "Python 3 (ipykernel)",
   "language": "python",
   "name": "python3"
  },
  "language_info": {
   "codemirror_mode": {
    "name": "ipython",
    "version": 3
   },
   "file_extension": ".py",
   "mimetype": "text/x-python",
   "name": "python",
   "nbconvert_exporter": "python",
   "pygments_lexer": "ipython3",
   "version": "3.8.12"
  }
 },
 "nbformat": 4,
 "nbformat_minor": 5
}
